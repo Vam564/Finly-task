{
  "nbformat": 4,
  "nbformat_minor": 0,
  "metadata": {
    "colab": {
      "name": "files_lab",
      "provenance": [],
      "authorship_tag": "ABX9TyPGA/9UaMCZkQyvwcnFpMyJ",
      "include_colab_link": true
    },
    "kernelspec": {
      "name": "python3",
      "display_name": "Python 3"
    },
    "language_info": {
      "name": "python"
    }
  },
  "cells": [
    {
      "cell_type": "markdown",
      "metadata": {
        "id": "view-in-github",
        "colab_type": "text"
      },
      "source": [
        "<a href=\"https://colab.research.google.com/github/Vam564/Finly-task/blob/main/files_lab.ipynb\" target=\"_parent\"><img src=\"https://colab.research.google.com/assets/colab-badge.svg\" alt=\"Open In Colab\"/></a>"
      ]
    },
    {
      "cell_type": "code",
      "metadata": {
        "id": "Hd7HYhOXZMwB"
      },
      "source": [
        "import os\n",
        "from pathlib import Path\n"
      ],
      "execution_count": 2,
      "outputs": []
    },
    {
      "cell_type": "code",
      "metadata": {
        "colab": {
          "base_uri": "https://localhost:8080/"
        },
        "id": "goSBtLAqdKPc",
        "outputId": "3ddbba37-1383-4f6c-ac53-78708e79d451"
      },
      "source": [
        "#1\n",
        "p = Path.cwd()\n",
        "print(p)"
      ],
      "execution_count": 3,
      "outputs": [
        {
          "output_type": "stream",
          "name": "stdout",
          "text": [
            "/content\n"
          ]
        }
      ]
    },
    {
      "cell_type": "code",
      "metadata": {
        "colab": {
          "base_uri": "https://localhost:8080/"
        },
        "id": "nPxIj5fheSfY",
        "outputId": "0b0cbdfe-9535-4dcf-c995-c4f8ec4a2053"
      },
      "source": [
        "#2\n",
        "#An absolute path, which always begins with the root folder\n",
        "#the above example shows the absolute path\n",
        "#Path.cwd().is_absolute()\n",
        "#\n",
        "Path('/sample.txt').is_absolute()\n"
      ],
      "execution_count": 17,
      "outputs": [
        {
          "output_type": "execute_result",
          "data": {
            "text/plain": [
              "True"
            ]
          },
          "metadata": {},
          "execution_count": 17
        }
      ]
    },
    {
      "cell_type": "code",
      "metadata": {
        "id": "-Be9AjbDexYX"
      },
      "source": [
        "#3.\n",
        "os.makedirs('/home/question_3')\n",
        "#after running the above peice of code the new directory \"question_3\" has been created"
      ],
      "execution_count": 13,
      "outputs": []
    },
    {
      "cell_type": "code",
      "metadata": {
        "colab": {
          "base_uri": "https://localhost:8080/"
        },
        "id": "-kp7w3SqjJJb",
        "outputId": "b88bddad-cf1f-44a7-cf03-9e6e4eddb3da"
      },
      "source": [
        "#4.\n",
        "d = open('/home/question_3/new_file_1.txt',\"x\")\n",
        "print(d)\n",
        "#after running the above peice of code new text file has been created"
      ],
      "execution_count": 19,
      "outputs": [
        {
          "output_type": "stream",
          "name": "stdout",
          "text": [
            "<_io.TextIOWrapper name='/home/question_3/new_file_1.txt' mode='x' encoding='UTF-8'>\n"
          ]
        }
      ]
    },
    {
      "cell_type": "code",
      "metadata": {
        "id": "q0FhHLI1kqwK"
      },
      "source": [
        "#5.\n",
        "d = open('/home/question_3/new_file.txt',\"w\")\n",
        "sting_v = 'Hoorah! a text written dynamically'\n",
        "d.write(sting_v+\"\\n\")\n",
        "d.close()\n"
      ],
      "execution_count": 89,
      "outputs": []
    },
    {
      "cell_type": "code",
      "metadata": {
        "id": "hoDR_5vemx9r"
      },
      "source": [
        "#6.\n",
        "f = open(\"/home/question_3/new_file.txt\", \"a\")\n",
        "list_of_strings = [\"Hey\", \"Hi\",\"How\",\"are\",\"you\",\"Im\",\"Good\"]\n",
        "for word in list_of_strings:\n",
        "  f.write(word+\" \")\n",
        "f.write(\"\\n\")\n",
        "f.close()\n"
      ],
      "execution_count": 90,
      "outputs": []
    },
    {
      "cell_type": "code",
      "metadata": {
        "id": "JCbq11CPnGGr"
      },
      "source": [
        "#7.\n",
        "import pprint\n",
        "new_dict = {'Name': 'John', 'Age': '23', 'Country': 'USA'}\n",
        "pprint.pformat(new_dict)\n",
        "e = open(\"/home/question_3/new_file.txt\", \"a\")\n",
        "e.write(pprint.pformat(new_dict)+\"\\n\")\n",
        "e.close()\n"
      ],
      "execution_count": 91,
      "outputs": []
    },
    {
      "cell_type": "code",
      "metadata": {
        "colab": {
          "base_uri": "https://localhost:8080/",
          "height": 35
        },
        "id": "-JaJ8q2as-z3",
        "outputId": "6e67022a-bc31-4800-b0f4-39a4e61c4347"
      },
      "source": [
        "#8 I am trying to change the directory of sample.txt file which is currently showing as \"/content/sample.txt\" \n",
        "# to \"/home/question_3\"\n",
        "os.path.abspath('sample.txt')\n",
        "os.chdir('/home/question_3')\n",
        "os.getcwd()\n",
        "#its got changed."
      ],
      "execution_count": 77,
      "outputs": [
        {
          "output_type": "execute_result",
          "data": {
            "application/vnd.google.colaboratory.intrinsic+json": {
              "type": "string"
            },
            "text/plain": [
              "'/home/question_3'"
            ]
          },
          "metadata": {},
          "execution_count": 77
        }
      ]
    },
    {
      "cell_type": "code",
      "metadata": {
        "colab": {
          "base_uri": "https://localhost:8080/"
        },
        "id": "Yoxjw4YOvldH",
        "outputId": "d95106a2-14f8-44bb-ba68-6b29df8ad3cc"
      },
      "source": [
        "#9\n",
        "import glob\n",
        "for file in glob.glob(\"*.txt\"):\n",
        "    print(file)"
      ],
      "execution_count": 80,
      "outputs": [
        {
          "output_type": "stream",
          "name": "stdout",
          "text": [
            "new_file.txt\n",
            "new_file_1.txt\n"
          ]
        }
      ]
    },
    {
      "cell_type": "code",
      "metadata": {
        "colab": {
          "base_uri": "https://localhost:8080/"
        },
        "id": "0Ecw5htVxMLc",
        "outputId": "72a4842a-063a-44ad-c2f5-ab51d425be0c"
      },
      "source": [
        "#10\n",
        "open_file = open(\"new_file.txt\",\"r\")\n",
        "print(open_file.read())"
      ],
      "execution_count": 93,
      "outputs": [
        {
          "output_type": "stream",
          "name": "stdout",
          "text": [
            "Hoorah! a text written dynamically\n",
            "Hey Hi How are you Im Good \n",
            "{'Age': '23', 'Country': 'USA', 'Name': 'John'}\n",
            "\n"
          ]
        }
      ]
    },
    {
      "cell_type": "code",
      "metadata": {
        "id": "cXOKYWPYz7Xa"
      },
      "source": [
        ""
      ],
      "execution_count": null,
      "outputs": []
    }
  ]
}